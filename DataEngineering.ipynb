{
 "cells": [
  {
   "cell_type": "code",
   "execution_count": 1,
   "id": "625f514b-6c4c-4034-8d7d-932e1f6dfdfb",
   "metadata": {},
   "outputs": [],
   "source": [
    "import pandas as pd\n",
    "import plotly.express as px\n",
    "import os\n",
    "os.environ['USE_PYGEOS'] = '0'\n",
    "import geopandas as gpd"
   ]
  },
  {
   "cell_type": "code",
   "execution_count": 2,
   "id": "c12e1135-7ef5-4fb8-a60f-25d2093320cc",
   "metadata": {},
   "outputs": [
    {
     "data": {
      "text/plain": [
       "<Geographic 2D CRS: EPSG:4269>\n",
       "Name: NAD83\n",
       "Axis Info [ellipsoidal]:\n",
       "- Lat[north]: Geodetic latitude (degree)\n",
       "- Lon[east]: Geodetic longitude (degree)\n",
       "Area of Use:\n",
       "- name: North America - onshore and offshore: Canada - Alberta; British Columbia; Manitoba; New Brunswick; Newfoundland and Labrador; Northwest Territories; Nova Scotia; Nunavut; Ontario; Prince Edward Island; Quebec; Saskatchewan; Yukon. Puerto Rico. United States (USA) - Alabama; Alaska; Arizona; Arkansas; California; Colorado; Connecticut; Delaware; Florida; Georgia; Hawaii; Idaho; Illinois; Indiana; Iowa; Kansas; Kentucky; Louisiana; Maine; Maryland; Massachusetts; Michigan; Minnesota; Mississippi; Missouri; Montana; Nebraska; Nevada; New Hampshire; New Jersey; New Mexico; New York; North Carolina; North Dakota; Ohio; Oklahoma; Oregon; Pennsylvania; Rhode Island; South Carolina; South Dakota; Tennessee; Texas; Utah; Vermont; Virginia; Washington; West Virginia; Wisconsin; Wyoming. US Virgin Islands. British Virgin Islands.\n",
       "- bounds: (167.65, 14.92, -40.73, 86.45)\n",
       "Datum: North American Datum 1983\n",
       "- Ellipsoid: GRS 1980\n",
       "- Prime Meridian: Greenwich"
      ]
     },
     "execution_count": 2,
     "metadata": {},
     "output_type": "execute_result"
    }
   ],
   "source": [
    "forsyth = gpd.read_file('Geography/Forsyth_CTs.gpkg')\n",
    "forsyth.crs"
   ]
  },
  {
   "cell_type": "code",
   "execution_count": 6,
   "id": "12039b99-7507-4870-bd3d-8ed5cb25d58e",
   "metadata": {},
   "outputs": [
    {
     "data": {
      "text/plain": [
       "Index(['Square Ft', 'year_sale', 'year_blt', 'price_sf', 'Sale Price', 'GEOID',\n",
       "       'Sub_geo', 'unique_ID', 'year', 'month', 'year-month'],\n",
       "      dtype='object')"
      ]
     },
     "execution_count": 6,
     "metadata": {},
     "output_type": "execute_result"
    }
   ],
   "source": [
    "new_data = pd.read_csv('NewSales/Forsyth_2023.csv')\n",
    "\n",
    "new_data['full_address'] = new_data['Address'] + ' Forsyth County, GA'\n",
    "\n",
    "new_geocoded = pd.read_csv('NewSales/Forsyth_2023_geocoded.csv')\n",
    "\n",
    "new_full = new_geocoded.merge(new_data, left_on='full_address', right_on='full_address')\n",
    "\n",
    "# create geodataframe\n",
    "new_full_gdf = gpd.GeoDataFrame(\n",
    "    new_full, \n",
    "    geometry=gpd.points_from_xy(new_full['long'], new_full['lat']), \n",
    "    crs=\"EPSG:4269\"\n",
    ")\n",
    "\n",
    "# create the 'year' column\n",
    "new_full_gdf['year_sale'] = pd.DatetimeIndex(new_full_gdf['Sale Date']).year\n",
    "\n",
    "# clean up columns\n",
    "new_full_gdf.rename(columns={\n",
    "    'Year  Built ':'year_blt',\n",
    "    'Square Ft ':'Square Ft',\n",
    "    }, inplace=True)\n",
    "\n",
    "# create numeric sale column\n",
    "new_full_gdf['price_number'] = new_full_gdf['Sale Price'].str.replace('[\\$,]','',regex=True).str.replace(',','',regex=True).astype(float)\n",
    "\n",
    "# create price/sf column\n",
    "new_full_gdf['price_sf'] = new_full_gdf['price_number'] / new_full_gdf['Square Ft']\n",
    "\n",
    "# spatial join\n",
    "forsyth_joined = new_full_gdf.sjoin(forsyth, predicate=\"within\")\n",
    "\n",
    "# only select those sales greater than $1,000, where the size is greater than 75 SF, and includes qualified sales only\n",
    "forsyth_joined = forsyth_joined[forsyth_joined['price_number'] > 1000]\n",
    "forsyth_joined = forsyth_joined[forsyth_joined['Square Ft'] > 75]\n",
    "forsyth_joined = forsyth_joined[forsyth_joined['Qualified Sales'] == 'Qualified']\n",
    "\n",
    "# final conversions\n",
    "forsyth_joined['GEOID'] = forsyth_joined['GEOID'].astype(str)\n",
    "forsyth_joined['unique_ID'] = forsyth_joined['Address'] + '-' + forsyth_joined['Sale Date'].astype(str) + '-' + forsyth_joined['price_number'].astype(str)\n",
    "forsyth_joined['year'] = pd.DatetimeIndex(forsyth_joined['Sale Date']).year\n",
    "forsyth_joined['month'] = pd.DatetimeIndex(forsyth_joined['Sale Date']).month\n",
    "forsyth_joined['year-month'] = forsyth_joined['year'].astype(str) + '-' + forsyth_joined['month'].astype(str)\n",
    "\n",
    "forsyth_joined = forsyth_joined[[\n",
    "    'Square Ft',\n",
    "    'year_sale',\n",
    "    'year_blt',\n",
    "    'price_sf',\n",
    "    'Sale Price',\n",
    "    'GEOID',\n",
    "    'Sub_geo',\n",
    "    'unique_ID', \n",
    "    'year', \n",
    "    'month', \n",
    "    'year-month'\n",
    "]]\n",
    "forsyth_joined.columns"
   ]
  },
  {
   "cell_type": "code",
   "execution_count": 7,
   "id": "245ffe4c-cbf4-44c5-8cf0-756467a62760",
   "metadata": {},
   "outputs": [
    {
     "data": {
      "text/plain": [
       "pandas.core.frame.DataFrame"
      ]
     },
     "execution_count": 7,
     "metadata": {},
     "output_type": "execute_result"
    }
   ],
   "source": [
    "# this is the data to which we'll want to append the new 2023 data\n",
    "df = pd.read_csv('Geocoded_Final_Joined.csv', thousands=',', keep_default_na=False)\n",
    "df = df.drop(columns=['field_1'])\n",
    "\n",
    "df.rename(columns={\n",
    "        'Year  Built':'year_blt',\n",
    "        'Year':'year_sale'\n",
    "    }, inplace=True)\n",
    "df['GEOID'] = df['GEOID'].astype(str)\n",
    "df['unique_ID'] = df['Address'] + '-' + df['Sale Date'].astype(str) + '-' + df['price_number'].astype(str)\n",
    "\n",
    "df['year'] = pd.DatetimeIndex(df['Sale Date']).year\n",
    "df['month'] = pd.DatetimeIndex(df['Sale Date']).month\n",
    "df['year-month'] = df['year'].astype(str) + '-' + df['month'].astype(str)\n",
    "\n",
    "\n",
    "df = df[[\n",
    "    'Square Ft',\n",
    "    'year_sale',\n",
    "    'year_blt',\n",
    "    'price_sf',\n",
    "    'Sale Price',\n",
    "    'GEOID',\n",
    "    'Sub_geo',\n",
    "    'unique_ID', \n",
    "    'year', \n",
    "    'month', \n",
    "    'year-month'\n",
    "]]\n",
    "\n",
    "type(df)"
   ]
  },
  {
   "cell_type": "code",
   "execution_count": 8,
   "id": "679533b6-d2ff-434f-a611-8c2423de6442",
   "metadata": {},
   "outputs": [],
   "source": [
    "df_final = pd.concat([df, forsyth_joined])\n",
    "df_final.to_csv('Geocoded_Final_Joined4.csv')"
   ]
  }
 ],
 "metadata": {
  "kernelspec": {
   "display_name": "research_dev",
   "language": "python",
   "name": "research_dev"
  },
  "language_info": {
   "codemirror_mode": {
    "name": "ipython",
    "version": 3
   },
   "file_extension": ".py",
   "mimetype": "text/x-python",
   "name": "python",
   "nbconvert_exporter": "python",
   "pygments_lexer": "ipython3",
   "version": "3.10.4"
  }
 },
 "nbformat": 4,
 "nbformat_minor": 5
}
